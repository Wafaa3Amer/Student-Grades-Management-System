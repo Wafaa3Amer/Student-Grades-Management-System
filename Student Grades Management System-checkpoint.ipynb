{
 "cells": [
  {
   "cell_type": "code",
   "execution_count": 17,
   "id": "efc8fbe0",
   "metadata": {},
   "outputs": [],
   "source": [
    "class GradeManager:\n",
    "    def __init__(self):\n",
    "        self.students = {}\n",
    "        self.subjects = []\n",
    "\n",
    "    def addStudent(self, studentName):\n",
    "        if studentName not in self.students:\n",
    "            self.students[studentName] = {}\n",
    "            print(f\"Student '{studentName}' added.\")\n",
    "        else:\n",
    "            print(f\"Student '{studentName}' already exists.\")\n",
    "\n",
    "    def addSubject(self, subjectName):\n",
    "        if subjectName not in self.subjects:\n",
    "            self.subjects.append(subjectName)\n",
    "            for student in self.students:\n",
    "                self.students[student][subjectName] = None\n",
    "            print(f\"Subject '{subjectName}' added.\")\n",
    "        else:\n",
    "            print(f\"Subject '{subjectName}' already exists.\")\n",
    "\n",
    "    def recordGrade(self, studentName, subjectName, grade):\n",
    "        if studentName in self.students:\n",
    "            if subjectName in self.subjects:\n",
    "                self.students[studentName][subjectName] = grade\n",
    "                print(f\"Recorded grade {grade} for {studentName} in {subjectName}.\")\n",
    "            else:\n",
    "                print(f\"Subject '{subjectName}' does not exist.\")\n",
    "        else:\n",
    "            print(f\"Student '{studentName}' does not exist.\")\n",
    "\n",
    "    def calculateAverageGrades(self):\n",
    "        averageGrades = {}\n",
    "        for student, grades in self.students.items():\n",
    "            total = 0\n",
    "            count = 0\n",
    "            for subject, grade in grades.items():\n",
    "                if grade is not None:\n",
    "                    total += grade\n",
    "                    count += 1\n",
    "            if count > 0:\n",
    "                averageGrades[student] = total / count\n",
    "            else:\n",
    "                averageGrades[student] = 0\n",
    "        return averageGrades\n",
    "\n",
    "    def determineTopStudent(self):\n",
    "        averageGrades = self.calculateAverageGrades()\n",
    "        topStudent = None\n",
    "        highestAvg = -1\n",
    "        for student, avgGrade in averageGrades.items():\n",
    "            if avgGrade > highestAvg:\n",
    "                highestAvg = avgGrade\n",
    "                topStudent = student\n",
    "        return topStudent, highestAvg\n",
    "\n"
   ]
  },
  {
   "cell_type": "code",
   "execution_count": 18,
   "id": "55795a06",
   "metadata": {},
   "outputs": [
    {
     "name": "stdout",
     "output_type": "stream",
     "text": [
      "Student 'Alice' added.\n",
      "Student 'Bob' added.\n",
      "Subject 'Math' added.\n",
      "Subject 'Science' added.\n",
      "Recorded grade 85 for Alice in Math.\n",
      "Recorded grade 95 for Alice in Science.\n",
      "Recorded grade 70 for Bob in Math.\n",
      "Recorded grade 80 for Bob in Science.\n",
      "Average Grades: {'Alice': 90.0, 'Bob': 75.0}\n",
      "Top Student: Alice with average grade 90.0\n"
     ]
    }
   ],
   "source": [
    "# Example usage:\n",
    "gradeManager = GradeManager()\n",
    "\n",
    "# Adding students\n",
    "gradeManager.addStudent(\"Alice\")\n",
    "gradeManager.addStudent(\"Bob\")\n",
    "\n",
    "# Adding subjects\n",
    "gradeManager.addSubject(\"Math\")\n",
    "gradeManager.addSubject(\"Science\")\n",
    "\n",
    "# Recording grades\n",
    "gradeManager.recordGrade(\"Alice\", \"Math\", 85)\n",
    "gradeManager.recordGrade(\"Alice\", \"Science\", 95)\n",
    "gradeManager.recordGrade(\"Bob\", \"Math\", 70)\n",
    "gradeManager.recordGrade(\"Bob\", \"Science\", 80)\n",
    "\n",
    "# Calculating average grades\n",
    "avgGrades = gradeManager.calculateAverageGrades()\n",
    "print(\"Average Grades:\", avgGrades)\n",
    "\n",
    "# Determining the top student\n",
    "topStudent, highestAvg = gradeManager.determineTopStudent()\n",
    "print(f\"Top Student: {topStudent} with average grade {highestAvg}\")\n"
   ]
  },
  {
   "cell_type": "code",
   "execution_count": null,
   "id": "aeaeeb6f",
   "metadata": {},
   "outputs": [],
   "source": []
  }
 ],
 "metadata": {
  "kernelspec": {
   "display_name": "Python 3 (ipykernel)",
   "language": "python",
   "name": "python3"
  },
  "language_info": {
   "codemirror_mode": {
    "name": "ipython",
    "version": 3
   },
   "file_extension": ".py",
   "mimetype": "text/x-python",
   "name": "python",
   "nbconvert_exporter": "python",
   "pygments_lexer": "ipython3",
   "version": "3.9.13"
  }
 },
 "nbformat": 4,
 "nbformat_minor": 5
}
